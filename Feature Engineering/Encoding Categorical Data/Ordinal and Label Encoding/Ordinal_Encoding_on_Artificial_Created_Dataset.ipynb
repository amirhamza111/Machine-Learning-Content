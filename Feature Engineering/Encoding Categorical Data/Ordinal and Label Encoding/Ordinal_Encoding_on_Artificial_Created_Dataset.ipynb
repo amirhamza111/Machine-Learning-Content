{
  "cells": [
    {
      "cell_type": "code",
      "source": [
        "import pandas as pd\n",
        "import numpy as np\n",
        "import matplotlib.pyplot as plt\n",
        "import seaborn as sns"
      ],
      "metadata": {
        "id": "ROnvRQj22vsc"
      },
      "execution_count": 1,
      "outputs": []
    },
    {
      "cell_type": "code",
      "source": [
        "from random import choice\n",
        "\n",
        "classes = [\"A\",\"B\",\"C\"]\n",
        "values = [choice(classes) for i in range(20)]\n",
        "oe = []\n",
        "for i in values:\n",
        "  if i == \"C\":\n",
        "    oe.append(0)\n",
        "  elif i == \"B\":\n",
        "    oe.append(1)\n",
        "  elif i == \"A\":\n",
        "    oe.append(2)\n",
        "  else:\n",
        "    pass\n",
        "for i in zip(values,oe):\n",
        "  print(i)\n"
      ],
      "metadata": {
        "colab": {
          "base_uri": "https://localhost:8080/"
        },
        "id": "y2JmA7BLSbjs",
        "outputId": "9c399f94-57bd-482c-d05e-6a54af658d4c"
      },
      "execution_count": 27,
      "outputs": [
        {
          "output_type": "stream",
          "name": "stdout",
          "text": [
            "('A', 2)\n",
            "('C', 0)\n",
            "('C', 0)\n",
            "('B', 1)\n",
            "('C', 0)\n",
            "('A', 2)\n",
            "('C', 0)\n",
            "('C', 0)\n",
            "('A', 2)\n",
            "('A', 2)\n",
            "('C', 0)\n",
            "('A', 2)\n",
            "('A', 2)\n",
            "('A', 2)\n",
            "('B', 1)\n",
            "('B', 1)\n",
            "('A', 2)\n",
            "('B', 1)\n",
            "('B', 1)\n",
            "('C', 0)\n"
          ]
        }
      ]
    }
  ],
  "metadata": {
    "colab": {
      "provenance": []
    },
    "kernelspec": {
      "display_name": "Python 3",
      "name": "python3"
    },
    "language_info": {
      "name": "python"
    }
  },
  "nbformat": 4,
  "nbformat_minor": 0
}