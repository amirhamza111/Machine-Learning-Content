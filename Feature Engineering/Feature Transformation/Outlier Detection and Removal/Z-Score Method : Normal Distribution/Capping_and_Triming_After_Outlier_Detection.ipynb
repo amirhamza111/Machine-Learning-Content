{
  "cells": [
    {
      "cell_type": "code",
      "source": [
        "# Capping\n",
        "x = [34,3,24,5,36,7,45,34,7,8,567,8,56,7,4,546,8,456,4,690]\n",
        "y = []\n",
        "for i in x:\n",
        "  if i < 5:\n",
        "    y.append(5)\n",
        "  elif i > 90:\n",
        "    y.append(90)\n",
        "  else:\n",
        "    y.append(i)\n",
        "list(zip(x,y))"
      ],
      "metadata": {
        "colab": {
          "base_uri": "https://localhost:8080/"
        },
        "id": "xC36-l52-zU6",
        "outputId": "ba7aee0c-8f12-400b-fb5f-75ef770848c2"
      },
      "execution_count": 202,
      "outputs": [
        {
          "output_type": "execute_result",
          "data": {
            "text/plain": [
              "[(34, 34),\n",
              " (3, 5),\n",
              " (24, 24),\n",
              " (5, 5),\n",
              " (36, 36),\n",
              " (7, 7),\n",
              " (45, 45),\n",
              " (34, 34),\n",
              " (7, 7),\n",
              " (8, 8),\n",
              " (567, 90),\n",
              " (8, 8),\n",
              " (56, 56),\n",
              " (7, 7),\n",
              " (4, 5),\n",
              " (546, 90),\n",
              " (8, 8),\n",
              " (456, 90),\n",
              " (4, 5),\n",
              " (690, 90)]"
            ]
          },
          "metadata": {},
          "execution_count": 202
        }
      ]
    },
    {
      "cell_type": "code",
      "source": [
        "## Trimming\n",
        "y = []\n",
        "outliers = []\n",
        "for i in x:\n",
        "  if i < 5 :\n",
        "    outliers.append(i)\n",
        "  elif i > 90:\n",
        "    outliers.append(i)\n",
        "  else:\n",
        "    y.append(i)\n",
        "y"
      ],
      "metadata": {
        "colab": {
          "base_uri": "https://localhost:8080/"
        },
        "id": "oIcwveex_lEq",
        "outputId": "4680d4be-38ee-4d80-e904-4d2ffa7b370b"
      },
      "execution_count": 204,
      "outputs": [
        {
          "output_type": "execute_result",
          "data": {
            "text/plain": [
              "[34, 24, 5, 36, 7, 45, 34, 7, 8, 8, 56, 7, 8]"
            ]
          },
          "metadata": {},
          "execution_count": 204
        }
      ]
    },
    {
      "cell_type": "code",
      "source": [
        "outliers"
      ],
      "metadata": {
        "colab": {
          "base_uri": "https://localhost:8080/"
        },
        "id": "Zy21ieeI_9pJ",
        "outputId": "03aec117-89f6-4765-a030-30265c778bf1"
      },
      "execution_count": 205,
      "outputs": [
        {
          "output_type": "execute_result",
          "data": {
            "text/plain": [
              "[3, 567, 4, 546, 456, 4, 690]"
            ]
          },
          "metadata": {},
          "execution_count": 205
        }
      ]
    }
  ],
  "metadata": {
    "colab": {
      "provenance": []
    },
    "kernelspec": {
      "display_name": "Python 3",
      "name": "python3"
    },
    "language_info": {
      "name": "python"
    }
  },
  "nbformat": 4,
  "nbformat_minor": 0
}