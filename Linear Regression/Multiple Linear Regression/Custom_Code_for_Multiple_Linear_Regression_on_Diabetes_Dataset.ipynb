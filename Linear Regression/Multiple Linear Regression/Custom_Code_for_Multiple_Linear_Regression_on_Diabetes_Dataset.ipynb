{
  "cells": [
    {
      "cell_type": "code",
      "source": [
        "import tensorflow as tf\n",
        "import numpy as np\n",
        "import pandas as pd\n",
        "import matplotlib.pyplot as plt\n",
        "import seaborn as sns\n",
        "from sklearn.datasets import load_diabetes"
      ],
      "metadata": {
        "id": "m9EItc-DD3aI"
      },
      "execution_count": 1,
      "outputs": []
    },
    {
      "cell_type": "code",
      "source": [
        "X , y = load_diabetes(return_X_y = True)"
      ],
      "metadata": {
        "id": "0O1_jd4H7twh"
      },
      "execution_count": 2,
      "outputs": []
    },
    {
      "cell_type": "code",
      "source": [
        "from sklearn.model_selection import train_test_split\n",
        "\n",
        "X_train , X_test  , y_train , y_test = train_test_split(X,y)"
      ],
      "metadata": {
        "id": "gEc-gGIa77Xf"
      },
      "execution_count": 3,
      "outputs": []
    },
    {
      "cell_type": "code",
      "source": [
        "from sklearn.linear_model import LinearRegression\n",
        "\n",
        "lr = LinearRegression()\n",
        "lr.fit(X_train,y_train)\n",
        "y_pred = lr.predict(X_test)\n"
      ],
      "metadata": {
        "id": "RxLrgAMjJAvq"
      },
      "execution_count": 4,
      "outputs": []
    },
    {
      "cell_type": "code",
      "source": [
        "from sklearn.metrics import r2_score\n",
        "\n",
        "r2_score(y_test,y_pred)"
      ],
      "metadata": {
        "colab": {
          "base_uri": "https://localhost:8080/"
        },
        "id": "pSDcuE1VNqeJ",
        "outputId": "4d3693d9-c0b8-44f1-cb59-1dd7767673fc"
      },
      "execution_count": 5,
      "outputs": [
        {
          "output_type": "execute_result",
          "data": {
            "text/plain": [
              "0.530390207159807"
            ]
          },
          "metadata": {},
          "execution_count": 5
        }
      ]
    },
    {
      "cell_type": "code",
      "source": [
        "lr.coef_"
      ],
      "metadata": {
        "colab": {
          "base_uri": "https://localhost:8080/"
        },
        "id": "9gfHrw4FN9aq",
        "outputId": "b39e572f-e905-4431-a3c4-1d4e5fdb5b25"
      },
      "execution_count": 6,
      "outputs": [
        {
          "output_type": "execute_result",
          "data": {
            "text/plain": [
              "array([   -9.44736902,  -261.16772059,   507.17564118,   326.03744163,\n",
              "       -1064.88867974,   728.6566165 ,   169.30362373,   150.822262  ,\n",
              "         810.20617722,   130.58853573])"
            ]
          },
          "metadata": {},
          "execution_count": 6
        }
      ]
    },
    {
      "cell_type": "code",
      "source": [
        "lr.intercept_"
      ],
      "metadata": {
        "colab": {
          "base_uri": "https://localhost:8080/"
        },
        "id": "dlM0TgIXN-Q4",
        "outputId": "b5b82db8-55b4-440b-cb49-2b969105e3b8"
      },
      "execution_count": 7,
      "outputs": [
        {
          "output_type": "execute_result",
          "data": {
            "text/plain": [
              "151.07032074011195"
            ]
          },
          "metadata": {},
          "execution_count": 7
        }
      ]
    },
    {
      "cell_type": "markdown",
      "source": [
        "# **Making Own Linear Regresssion Class**"
      ],
      "metadata": {
        "id": "zizM4f703J4j"
      }
    },
    {
      "cell_type": "code",
      "source": [
        "class MeraLR:\n",
        "\n",
        "  def __init__(self):\n",
        "    self.coef_ = None\n",
        "    self.intercept_ = None\n",
        "\n",
        "  def fit(self,X_train , y_train):\n",
        "    X_train = np.insert(X_train,0,1,axis = 1)\n",
        "\n",
        "    # Calculate the Coeffs\n",
        "    betas = np.linalg.inv(np.dot(X_train.T,X_train)).dot(X_train.T).dot(y_train)\n",
        "    self.intercept_ = betas[0]\n",
        "    self.coef_ = betas[1:]\n",
        "\n",
        "  def predict(self,X_test):\n",
        "    y_pred = self.intercept_ + np.dot(X_test,self.coef_)\n",
        "    return y_pred\n",
        "\n",
        "\n",
        "lr = MeraLR()\n",
        "lr.fit(X_train , y_train)\n",
        "print(lr.predict(X_test))"
      ],
      "metadata": {
        "colab": {
          "base_uri": "https://localhost:8080/"
        },
        "id": "5m-5bCOz3N1t",
        "outputId": "7b050d04-c200-445a-eb09-7ef6a45f69e9"
      },
      "execution_count": 26,
      "outputs": [
        {
          "output_type": "stream",
          "name": "stdout",
          "text": [
            "[162.61193566  90.81988504  68.31666498 104.25787606 122.14428564\n",
            "  53.01308367 241.54414267 134.55452376 154.50513629 123.64844839\n",
            "  98.42749353 159.56056195 180.52021925 114.01564944 179.58623195\n",
            "  81.6776859  231.26325242 123.14353877 261.13633515 132.19200414\n",
            " 162.2333     140.20960154 181.66921452 177.66248801  95.68104893\n",
            " 226.59086015 173.41993537 114.79654445 122.45056985 164.41684657\n",
            " 161.0725272  144.31284321 194.76126078 121.37466951 122.82975312\n",
            " 174.6853533  123.47716204 161.01818488 170.98723088 188.0894717\n",
            " 188.83885144 240.68737092 123.33015004 157.06124301  92.31173133\n",
            "  80.82656232 174.42967576 150.28203139 178.53718556  87.32467677\n",
            " 178.84576805 146.96634152 173.42012542 161.30292826 116.54071698\n",
            " 243.37000369 282.94150842  84.75460088 121.59636255 254.89685787\n",
            "  79.30596571  98.07622488  82.01223819 165.55791219 191.19284447\n",
            " 150.44655795 111.24904029 100.53068142 142.04329882  59.62217852\n",
            " 198.90855202 165.04403163 250.32650016 161.43269199  41.00421117\n",
            " 129.49035104 157.28594304 167.4544052  238.05249409 179.89246584\n",
            " 120.0535768  220.87842994  58.62006783 164.47112898  46.50638793\n",
            " 144.07849738 122.60629744 156.02124736 203.55145506  88.50072257\n",
            " 267.39936828  43.82601351 174.46973276 219.21506962 154.67436692\n",
            " 182.39530622 179.74814655  42.97932696  51.11624516 177.88852495\n",
            " 159.72755386 230.5899654  222.11037367 112.71124986  98.55815414\n",
            "  77.29959856 166.22454904 145.78234244 207.17121346 113.89344381\n",
            " 268.14230922]\n"
          ]
        }
      ]
    },
    {
      "cell_type": "code",
      "source": [
        "lr.coef_"
      ],
      "metadata": {
        "colab": {
          "base_uri": "https://localhost:8080/"
        },
        "id": "aZ4C437X7gge",
        "outputId": "e19c5da9-9a3a-4b6c-a49d-f8d2474cfcd6"
      },
      "execution_count": 27,
      "outputs": [
        {
          "output_type": "execute_result",
          "data": {
            "text/plain": [
              "array([   -9.44736902,  -261.16772059,   507.17564118,   326.03744163,\n",
              "       -1064.88867974,   728.6566165 ,   169.30362373,   150.822262  ,\n",
              "         810.20617722,   130.58853573])"
            ]
          },
          "metadata": {},
          "execution_count": 27
        }
      ]
    },
    {
      "cell_type": "code",
      "source": [
        "lr.intercept_"
      ],
      "metadata": {
        "colab": {
          "base_uri": "https://localhost:8080/"
        },
        "id": "-sVZxDHU7irZ",
        "outputId": "3e11c842-c1a8-4c3a-dd08-53914836da8f"
      },
      "execution_count": 28,
      "outputs": [
        {
          "output_type": "execute_result",
          "data": {
            "text/plain": [
              "151.07032074011192"
            ]
          },
          "metadata": {},
          "execution_count": 28
        }
      ]
    }
  ],
  "metadata": {
    "colab": {
      "provenance": []
    },
    "kernelspec": {
      "display_name": "Python 3",
      "name": "python3"
    },
    "language_info": {
      "name": "python"
    }
  },
  "nbformat": 4,
  "nbformat_minor": 0
}